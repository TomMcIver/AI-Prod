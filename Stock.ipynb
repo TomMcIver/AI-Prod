{
 "cells": [
  {
   "cell_type": "code",
   "execution_count": 1,
   "id": "5e860f96",
   "metadata": {
    "execution": {
     "iopub.execute_input": "2025-06-04T23:06:45.884588Z",
     "iopub.status.busy": "2025-06-04T23:06:45.884201Z",
     "iopub.status.idle": "2025-06-04T23:06:46.018452Z",
     "shell.execute_reply": "2025-06-04T23:06:46.017076Z"
    },
    "papermill": {
     "duration": 0.140285,
     "end_time": "2025-06-04T23:06:46.020509",
     "exception": false,
     "start_time": "2025-06-04T23:06:45.880224",
     "status": "completed"
    },
    "tags": []
   },
   "outputs": [
    {
     "name": "stdout",
     "output_type": "stream",
     "text": [
      "stock_details_5_years.csv\r\n"
     ]
    }
   ],
   "source": [
    "\n",
    "!ls /kaggle/input/massive-yahoo-finance-dataset\n"
   ]
  },
  {
   "cell_type": "code",
   "execution_count": 2,
   "id": "81e097e6",
   "metadata": {
    "execution": {
     "iopub.execute_input": "2025-06-04T23:06:46.027302Z",
     "iopub.status.busy": "2025-06-04T23:06:46.026876Z",
     "iopub.status.idle": "2025-06-04T23:06:50.278083Z",
     "shell.execute_reply": "2025-06-04T23:06:50.277113Z"
    },
    "papermill": {
     "duration": 4.256423,
     "end_time": "2025-06-04T23:06:50.279637",
     "exception": false,
     "start_time": "2025-06-04T23:06:46.023214",
     "status": "completed"
    },
    "tags": []
   },
   "outputs": [
    {
     "name": "stdout",
     "output_type": "stream",
     "text": [
      "(602962, 9)\n"
     ]
    },
    {
     "data": {
      "text/html": [
       "<div>\n",
       "<style scoped>\n",
       "    .dataframe tbody tr th:only-of-type {\n",
       "        vertical-align: middle;\n",
       "    }\n",
       "\n",
       "    .dataframe tbody tr th {\n",
       "        vertical-align: top;\n",
       "    }\n",
       "\n",
       "    .dataframe thead th {\n",
       "        text-align: right;\n",
       "    }\n",
       "</style>\n",
       "<table border=\"1\" class=\"dataframe\">\n",
       "  <thead>\n",
       "    <tr style=\"text-align: right;\">\n",
       "      <th></th>\n",
       "      <th>Date</th>\n",
       "      <th>Open</th>\n",
       "      <th>High</th>\n",
       "      <th>Low</th>\n",
       "      <th>Close</th>\n",
       "      <th>Volume</th>\n",
       "      <th>Dividends</th>\n",
       "      <th>Stock Splits</th>\n",
       "      <th>Company</th>\n",
       "    </tr>\n",
       "  </thead>\n",
       "  <tbody>\n",
       "    <tr>\n",
       "      <th>0</th>\n",
       "      <td>2018-11-29 00:00:00-05:00</td>\n",
       "      <td>43.829761</td>\n",
       "      <td>43.863354</td>\n",
       "      <td>42.639594</td>\n",
       "      <td>43.083508</td>\n",
       "      <td>167080000</td>\n",
       "      <td>0.00</td>\n",
       "      <td>0.0</td>\n",
       "      <td>AAPL</td>\n",
       "    </tr>\n",
       "    <tr>\n",
       "      <th>1</th>\n",
       "      <td>2018-11-29 00:00:00-05:00</td>\n",
       "      <td>104.769074</td>\n",
       "      <td>105.519257</td>\n",
       "      <td>103.534595</td>\n",
       "      <td>104.636131</td>\n",
       "      <td>28123200</td>\n",
       "      <td>0.00</td>\n",
       "      <td>0.0</td>\n",
       "      <td>MSFT</td>\n",
       "    </tr>\n",
       "    <tr>\n",
       "      <th>2</th>\n",
       "      <td>2018-11-29 00:00:00-05:00</td>\n",
       "      <td>54.176498</td>\n",
       "      <td>55.007500</td>\n",
       "      <td>54.099998</td>\n",
       "      <td>54.729000</td>\n",
       "      <td>31004000</td>\n",
       "      <td>0.00</td>\n",
       "      <td>0.0</td>\n",
       "      <td>GOOGL</td>\n",
       "    </tr>\n",
       "    <tr>\n",
       "      <th>3</th>\n",
       "      <td>2018-11-29 00:00:00-05:00</td>\n",
       "      <td>83.749496</td>\n",
       "      <td>84.499496</td>\n",
       "      <td>82.616501</td>\n",
       "      <td>83.678497</td>\n",
       "      <td>132264000</td>\n",
       "      <td>0.00</td>\n",
       "      <td>0.0</td>\n",
       "      <td>AMZN</td>\n",
       "    </tr>\n",
       "    <tr>\n",
       "      <th>4</th>\n",
       "      <td>2018-11-29 00:00:00-05:00</td>\n",
       "      <td>39.692784</td>\n",
       "      <td>40.064904</td>\n",
       "      <td>38.735195</td>\n",
       "      <td>39.037853</td>\n",
       "      <td>54917200</td>\n",
       "      <td>0.04</td>\n",
       "      <td>0.0</td>\n",
       "      <td>NVDA</td>\n",
       "    </tr>\n",
       "  </tbody>\n",
       "</table>\n",
       "</div>"
      ],
      "text/plain": [
       "                        Date        Open        High         Low       Close  \\\n",
       "0  2018-11-29 00:00:00-05:00   43.829761   43.863354   42.639594   43.083508   \n",
       "1  2018-11-29 00:00:00-05:00  104.769074  105.519257  103.534595  104.636131   \n",
       "2  2018-11-29 00:00:00-05:00   54.176498   55.007500   54.099998   54.729000   \n",
       "3  2018-11-29 00:00:00-05:00   83.749496   84.499496   82.616501   83.678497   \n",
       "4  2018-11-29 00:00:00-05:00   39.692784   40.064904   38.735195   39.037853   \n",
       "\n",
       "      Volume  Dividends  Stock Splits Company  \n",
       "0  167080000       0.00           0.0    AAPL  \n",
       "1   28123200       0.00           0.0    MSFT  \n",
       "2   31004000       0.00           0.0   GOOGL  \n",
       "3  132264000       0.00           0.0    AMZN  \n",
       "4   54917200       0.04           0.0    NVDA  "
      ]
     },
     "execution_count": 2,
     "metadata": {},
     "output_type": "execute_result"
    }
   ],
   "source": [
    "import pandas as pd\n",
    "\n",
    "# Adjust the filename if necessary\n",
    "DATA_PATH = '/kaggle/input/massive-yahoo-finance-dataset/stock_details_5_years.csv'\n",
    "\n",
    "# Parse “Date” as datetime, read 600k+ rows\n",
    "df = pd.read_csv(\n",
    "    DATA_PATH,\n",
    "    parse_dates=['Date'],       # ensure pandas sees dates\n",
    "    na_values=['', 'NA', 'nan'] # safe parsing\n",
    ")\n",
    "\n",
    "print(df.shape)  # Expect around (603000, 9) or similar\n",
    "df.head()\n"
   ]
  },
  {
   "cell_type": "code",
   "execution_count": 3,
   "id": "9dd36661",
   "metadata": {
    "execution": {
     "iopub.execute_input": "2025-06-04T23:06:50.286006Z",
     "iopub.status.busy": "2025-06-04T23:06:50.285662Z",
     "iopub.status.idle": "2025-06-04T23:06:50.478204Z",
     "shell.execute_reply": "2025-06-04T23:06:50.477241Z"
    },
    "papermill": {
     "duration": 0.197567,
     "end_time": "2025-06-04T23:06:50.479713",
     "exception": false,
     "start_time": "2025-06-04T23:06:50.282146",
     "status": "completed"
    },
    "tags": []
   },
   "outputs": [
    {
     "name": "stdout",
     "output_type": "stream",
     "text": [
      "<class 'pandas.core.frame.DataFrame'>\n",
      "RangeIndex: 602962 entries, 0 to 602961\n",
      "Data columns (total 9 columns):\n",
      " #   Column        Non-Null Count   Dtype  \n",
      "---  ------        --------------   -----  \n",
      " 0   Date          602962 non-null  object \n",
      " 1   Open          602962 non-null  float64\n",
      " 2   High          602962 non-null  float64\n",
      " 3   Low           602962 non-null  float64\n",
      " 4   Close         602962 non-null  float64\n",
      " 5   Volume        602962 non-null  int64  \n",
      " 6   Dividends     602962 non-null  float64\n",
      " 7   Stock Splits  602962 non-null  float64\n",
      " 8   Company       602962 non-null  object \n",
      "dtypes: float64(6), int64(1), object(2)\n",
      "memory usage: 41.4+ MB\n"
     ]
    },
    {
     "data": {
      "text/plain": [
       "Date            0\n",
       "Open            0\n",
       "High            0\n",
       "Low             0\n",
       "Close           0\n",
       "Volume          0\n",
       "Dividends       0\n",
       "Stock Splits    0\n",
       "Company         0\n",
       "dtype: int64"
      ]
     },
     "execution_count": 3,
     "metadata": {},
     "output_type": "execute_result"
    }
   ],
   "source": [
    "df.info()\n",
    "df.isna().sum()\n"
   ]
  },
  {
   "cell_type": "code",
   "execution_count": 4,
   "id": "2825decd",
   "metadata": {
    "execution": {
     "iopub.execute_input": "2025-06-04T23:06:50.486057Z",
     "iopub.status.busy": "2025-06-04T23:06:50.485725Z",
     "iopub.status.idle": "2025-06-04T23:06:50.564864Z",
     "shell.execute_reply": "2025-06-04T23:06:50.563908Z"
    },
    "papermill": {
     "duration": 0.084358,
     "end_time": "2025-06-04T23:06:50.566621",
     "exception": false,
     "start_time": "2025-06-04T23:06:50.482263",
     "status": "completed"
    },
    "tags": []
   },
   "outputs": [
    {
     "data": {
      "text/plain": [
       "Company\n",
       "AAPL    1258\n",
       "ARES    1258\n",
       "FAST    1258\n",
       "WCN     1258\n",
       "FERG    1258\n",
       "CSGP    1258\n",
       "TTD     1258\n",
       "VRSK    1258\n",
       "FIS     1258\n",
       "LYG     1258\n",
       "Name: count, dtype: int64"
      ]
     },
     "execution_count": 4,
     "metadata": {},
     "output_type": "execute_result"
    }
   ],
   "source": [
    "df['Company'].nunique()  # should be 491\n",
    "df['Company'].value_counts().head(10)  # top‐10 by row count\n"
   ]
  },
  {
   "cell_type": "code",
   "execution_count": 5,
   "id": "e2e99924",
   "metadata": {
    "execution": {
     "iopub.execute_input": "2025-06-04T23:06:50.573070Z",
     "iopub.status.busy": "2025-06-04T23:06:50.572790Z",
     "iopub.status.idle": "2025-06-04T23:06:50.720387Z",
     "shell.execute_reply": "2025-06-04T23:06:50.719517Z"
    },
    "papermill": {
     "duration": 0.152666,
     "end_time": "2025-06-04T23:06:50.721921",
     "exception": false,
     "start_time": "2025-06-04T23:06:50.569255",
     "status": "completed"
    },
    "tags": []
   },
   "outputs": [
    {
     "data": {
      "text/plain": [
       "(Timestamp('2018-11-29 00:00:00-0500', tz='UTC-05:00'),\n",
       " Timestamp('2023-11-29 00:00:00-0500', tz='UTC-05:00'))"
      ]
     },
     "execution_count": 5,
     "metadata": {},
     "output_type": "execute_result"
    }
   ],
   "source": [
    "df['Date'].min(), df['Date'].max()\n",
    "\n"
   ]
  },
  {
   "cell_type": "code",
   "execution_count": 6,
   "id": "76f8a35c",
   "metadata": {
    "execution": {
     "iopub.execute_input": "2025-06-04T23:06:50.728256Z",
     "iopub.status.busy": "2025-06-04T23:06:50.727992Z",
     "iopub.status.idle": "2025-06-04T23:06:51.247880Z",
     "shell.execute_reply": "2025-06-04T23:06:51.246912Z"
    },
    "papermill": {
     "duration": 0.525161,
     "end_time": "2025-06-04T23:06:51.249808",
     "exception": false,
     "start_time": "2025-06-04T23:06:50.724647",
     "status": "completed"
    },
    "tags": []
   },
   "outputs": [
    {
     "data": {
      "text/html": [
       "<div>\n",
       "<style scoped>\n",
       "    .dataframe tbody tr th:only-of-type {\n",
       "        vertical-align: middle;\n",
       "    }\n",
       "\n",
       "    .dataframe tbody tr th {\n",
       "        vertical-align: top;\n",
       "    }\n",
       "\n",
       "    .dataframe thead th {\n",
       "        text-align: right;\n",
       "    }\n",
       "</style>\n",
       "<table border=\"1\" class=\"dataframe\">\n",
       "  <thead>\n",
       "    <tr style=\"text-align: right;\">\n",
       "      <th></th>\n",
       "      <th>Company</th>\n",
       "      <th>min</th>\n",
       "      <th>max</th>\n",
       "      <th>count</th>\n",
       "    </tr>\n",
       "  </thead>\n",
       "  <tbody>\n",
       "    <tr>\n",
       "      <th>0</th>\n",
       "      <td>A</td>\n",
       "      <td>2018-11-29 00:00:00-05:00</td>\n",
       "      <td>2023-11-29 00:00:00-05:00</td>\n",
       "      <td>1258</td>\n",
       "    </tr>\n",
       "    <tr>\n",
       "      <th>317</th>\n",
       "      <td>NTR</td>\n",
       "      <td>2018-11-29 00:00:00-05:00</td>\n",
       "      <td>2023-11-29 00:00:00-05:00</td>\n",
       "      <td>1258</td>\n",
       "    </tr>\n",
       "    <tr>\n",
       "      <th>330</th>\n",
       "      <td>ORAN</td>\n",
       "      <td>2018-11-29 00:00:00-05:00</td>\n",
       "      <td>2023-11-29 00:00:00-05:00</td>\n",
       "      <td>1258</td>\n",
       "    </tr>\n",
       "    <tr>\n",
       "      <th>329</th>\n",
       "      <td>ON</td>\n",
       "      <td>2018-11-29 00:00:00-05:00</td>\n",
       "      <td>2023-11-29 00:00:00-05:00</td>\n",
       "      <td>1258</td>\n",
       "    </tr>\n",
       "    <tr>\n",
       "      <th>328</th>\n",
       "      <td>OKE</td>\n",
       "      <td>2018-11-29 00:00:00-05:00</td>\n",
       "      <td>2023-11-29 00:00:00-05:00</td>\n",
       "      <td>1258</td>\n",
       "    </tr>\n",
       "    <tr>\n",
       "      <th>327</th>\n",
       "      <td>ODFL</td>\n",
       "      <td>2018-11-29 00:00:00-05:00</td>\n",
       "      <td>2023-11-29 00:00:00-05:00</td>\n",
       "      <td>1258</td>\n",
       "    </tr>\n",
       "    <tr>\n",
       "      <th>326</th>\n",
       "      <td>O</td>\n",
       "      <td>2018-11-29 00:00:00-05:00</td>\n",
       "      <td>2023-11-29 00:00:00-05:00</td>\n",
       "      <td>1258</td>\n",
       "    </tr>\n",
       "    <tr>\n",
       "      <th>325</th>\n",
       "      <td>NXPI</td>\n",
       "      <td>2018-11-29 00:00:00-05:00</td>\n",
       "      <td>2023-11-29 00:00:00-05:00</td>\n",
       "      <td>1258</td>\n",
       "    </tr>\n",
       "    <tr>\n",
       "      <th>324</th>\n",
       "      <td>NWG</td>\n",
       "      <td>2018-11-29 00:00:00-05:00</td>\n",
       "      <td>2023-11-29 00:00:00-05:00</td>\n",
       "      <td>1258</td>\n",
       "    </tr>\n",
       "    <tr>\n",
       "      <th>323</th>\n",
       "      <td>NVS</td>\n",
       "      <td>2018-11-29 00:00:00-05:00</td>\n",
       "      <td>2023-11-29 00:00:00-05:00</td>\n",
       "      <td>1258</td>\n",
       "    </tr>\n",
       "  </tbody>\n",
       "</table>\n",
       "</div>"
      ],
      "text/plain": [
       "    Company                        min                        max  count\n",
       "0         A  2018-11-29 00:00:00-05:00  2023-11-29 00:00:00-05:00   1258\n",
       "317     NTR  2018-11-29 00:00:00-05:00  2023-11-29 00:00:00-05:00   1258\n",
       "330    ORAN  2018-11-29 00:00:00-05:00  2023-11-29 00:00:00-05:00   1258\n",
       "329      ON  2018-11-29 00:00:00-05:00  2023-11-29 00:00:00-05:00   1258\n",
       "328     OKE  2018-11-29 00:00:00-05:00  2023-11-29 00:00:00-05:00   1258\n",
       "327    ODFL  2018-11-29 00:00:00-05:00  2023-11-29 00:00:00-05:00   1258\n",
       "326       O  2018-11-29 00:00:00-05:00  2023-11-29 00:00:00-05:00   1258\n",
       "325    NXPI  2018-11-29 00:00:00-05:00  2023-11-29 00:00:00-05:00   1258\n",
       "324     NWG  2018-11-29 00:00:00-05:00  2023-11-29 00:00:00-05:00   1258\n",
       "323     NVS  2018-11-29 00:00:00-05:00  2023-11-29 00:00:00-05:00   1258"
      ]
     },
     "execution_count": 6,
     "metadata": {},
     "output_type": "execute_result"
    }
   ],
   "source": [
    "coverage = df.groupby('Company')['Date'].agg(['min','max','count']).reset_index()\n",
    "coverage.sort_values('count').head(10)  # tickers with fewest days\n",
    "coverage.sort_values('count', ascending=False).head(10) # most days\n"
   ]
  }
 ],
 "metadata": {
  "kaggle": {
   "accelerator": "none",
   "dataSources": [
    {
     "datasetId": 4081618,
     "sourceId": 7084494,
     "sourceType": "datasetVersion"
    }
   ],
   "dockerImageVersionId": 31040,
   "isGpuEnabled": false,
   "isInternetEnabled": true,
   "language": "python",
   "sourceType": "notebook"
  },
  "kernelspec": {
   "display_name": "Python 3",
   "language": "python",
   "name": "python3"
  },
  "language_info": {
   "codemirror_mode": {
    "name": "ipython",
    "version": 3
   },
   "file_extension": ".py",
   "mimetype": "text/x-python",
   "name": "python",
   "nbconvert_exporter": "python",
   "pygments_lexer": "ipython3",
   "version": "3.11.11"
  },
  "papermill": {
   "default_parameters": {},
   "duration": 11.157078,
   "end_time": "2025-06-04T23:06:51.874345",
   "environment_variables": {},
   "exception": null,
   "input_path": "__notebook__.ipynb",
   "output_path": "__notebook__.ipynb",
   "parameters": {},
   "start_time": "2025-06-04T23:06:40.717267",
   "version": "2.6.0"
  }
 },
 "nbformat": 4,
 "nbformat_minor": 5
}
